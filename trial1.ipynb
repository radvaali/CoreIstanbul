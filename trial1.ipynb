{
 "cells": [
  {
   "cell_type": "code",
   "execution_count": 138,
   "id": "d52f78aa-378c-489d-891a-5c382d3fe1d9",
   "metadata": {
    "tags": []
   },
   "outputs": [
    {
     "data": {
      "text/plain": [
       "\"Euclidean Algorithm:\\nfor the two numbers (a) and (b), since (a)>(b)\\nwe follow this formula (a) = (b)*(x) + remainder\\nWe find out how many (b)'s there are in (a) which is (x) times, and write the remainder of (a) after dividing it by (b), \\nthen the first (b) replaces (a) and the remainder replaces (b), we repeat this process until (b) = 0. \\nWhen (b) = 0, it means we find the greatest common divisor of these two numbers. \\nThe gcd will be the last number we find in (a)\\n\""
      ]
     },
     "execution_count": 138,
     "metadata": {},
     "output_type": "execute_result"
    }
   ],
   "source": [
    "\"\"\"Euclidean Algorithm:\n",
    "for the two numbers (a) and (b), since (a)>(b)\n",
    "we follow this formula (a) = (b)*(x) + remainder\n",
    "We find out how many (b)'s there are in (a) which is (x) times, and write the remainder of (a) after dividing it by (b), \n",
    "then the first (b) replaces (a) and the remainder replaces (b), we repeat this process until (b) = 0. \n",
    "When (b) = 0, it means we find the greatest common divisor of these two numbers. \n",
    "The gcd will be the last number we find in (a)\n",
    "\"\"\"\n"
   ]
  },
  {
   "cell_type": "code",
   "execution_count": 276,
   "id": "cbbf13da-cc65-42e4-a8a7-b956c2630613",
   "metadata": {
    "tags": []
   },
   "outputs": [],
   "source": [
    "def  gcd_two_numbers(a,b):            # defining the required function\n",
    "    \n",
    "    \n",
    "    if not isinstance(a, int) or a <= 0:\n",
    "        raise ValueError(\"a must be a positive integer\")\n",
    "\n",
    "    if b == 0 :                       # if b = 0 it means we find the gcd \n",
    "        return a                      # we return a since b was replaced to a in the process of the algorithm\n",
    "    else :                            # if b != 0 \n",
    "        return gcd_two_numbers(b,a%b) # we replace a with b, and b with the remainder of a by b"
   ]
  },
  {
   "cell_type": "code",
   "execution_count": 279,
   "id": "f9bf5d74-08b2-493d-ab4d-a4af3bd96120",
   "metadata": {
    "tags": []
   },
   "outputs": [
    {
     "name": "stdout",
     "output_type": "stream",
     "text": [
      "Enter two numbers to calculate their Greatest common Divisor\n",
      "\n"
     ]
    },
    {
     "name": "stdin",
     "output_type": "stream",
     "text": [
      "Enter the first integer number:  \n",
      " 44\n",
      "Enter the second integer number:  \n",
      " 66\n"
     ]
    },
    {
     "name": "stdout",
     "output_type": "stream",
     "text": [
      "GCD(44,66) = 22\n"
     ]
    }
   ],
   "source": [
    "print(\"Enter two numbers to calculate their Greatest common Divisor\\n\") \n",
    "                                                 # asking user to enter two numbers.\n",
    "\n",
    "try:                                            # using try to handle exceptions and errors that may occur during program execution\n",
    "    number1 = int(input(\"Enter the first integer number:  \\n\"))\n",
    "                                                # asking user to enter the first number and saving it in number1 int variable.\n",
    "\n",
    "    number2 = int(input(\"Enter the second integer number:  \\n\")) \n",
    "                                                 # asking user to enter the second number and saving it in number2 int variable.\n",
    "\n",
    "    result = gcd_two_numbers(number1, number2)   # saving the result in a result name variable\n",
    "    print(f\"GCD({number1},{number2}) = {result}\")\n",
    "                                                # call the gcd_two_numbers function and print the gcd of the user defined two numbers.\n",
    "except ValueError as e:\n",
    "    print(f\"Error: {e}\")             # printing the error message that will occur if the user enter zero, negative or string values.\n"
   ]
  },
  {
   "cell_type": "code",
   "execution_count": 238,
   "id": "938fdd04-d6e2-4c58-bae4-c34cd2bb73d3",
   "metadata": {
    "tags": []
   },
   "outputs": [],
   "source": [
    "def gcd_numbers(numbers :[]):  #function accepts a list of positive integers\n",
    "    if not numbers:            #checks if the input list numbers is empty \n",
    "        print(\"Input list is empty.\") #if is it empty print error message and retrun the func\n",
    "        return\n",
    "\n",
    "                        \n",
    "    for num in numbers:        # to check every number in the user defined list\n",
    "        if num <= 0:           # checks if any of them are non-positive  \n",
    "            print(\"Enter a list of positive and non zero integers.\") #if it finds any non-positive integers, it prints an error message and return\n",
    "            return\n",
    "\n",
    "                                                    #calculate the GCD iteratively for each element in the list\n",
    "    g = gcd_two_numbers(numbers[0], numbers[1])     #calculate first two elements \n",
    "    for i in range(2, len(numbers)):\n",
    "        g = gcd_two_numbers(g, numbers[i])          # updates g in every step in the list.\n",
    "\n",
    "    print(\"GCD of list:\", g)                        #printing the result\n",
    "\n",
    "    "
   ]
  },
  {
   "cell_type": "code",
   "execution_count": 239,
   "id": "90f1213c-19f3-411b-bd5b-23e1495522c3",
   "metadata": {
    "tags": []
   },
   "outputs": [
    {
     "name": "stdout",
     "output_type": "stream",
     "text": [
      "Enter a list of positive and non zero integers.\n"
     ]
    }
   ],
   "source": [
    "gcd_numbers([-3,0,9]);"
   ]
  },
  {
   "cell_type": "code",
   "execution_count": 118,
   "id": "78f1dbe5-c4b0-4650-b8b4-d4ed6714042d",
   "metadata": {
    "tags": []
   },
   "outputs": [
    {
     "name": "stdout",
     "output_type": "stream",
     "text": [
      "Enter a list of positive integers.\n"
     ]
    }
   ],
   "source": [
    "gcd_numbers([3,0,99])"
   ]
  },
  {
   "cell_type": "code",
   "execution_count": 225,
   "id": "432f06a7-530f-4779-9db0-da257175c5b8",
   "metadata": {
    "tags": []
   },
   "outputs": [
    {
     "name": "stdout",
     "output_type": "stream",
     "text": [
      "GCD of list: 30\n"
     ]
    },
    {
     "data": {
      "text/plain": [
       "NoneType"
      ]
     },
     "execution_count": 225,
     "metadata": {},
     "output_type": "execute_result"
    }
   ],
   "source": [
    "func = gcd_numbers([30,690])\n",
    "type(func)"
   ]
  },
  {
   "cell_type": "code",
   "execution_count": 121,
   "id": "3026dcf5-d533-4c7a-8dad-e661926f9a8f",
   "metadata": {
    "tags": []
   },
   "outputs": [
    {
     "name": "stdout",
     "output_type": "stream",
     "text": [
      "GCD of list: 6\n"
     ]
    }
   ],
   "source": [
    "gcd_numbers([12,30,90])"
   ]
  },
  {
   "cell_type": "code",
   "execution_count": 291,
   "id": "71693fbf-25d9-4460-b467-4c06663955b2",
   "metadata": {
    "tags": []
   },
   "outputs": [],
   "source": [
    "def get_numbers():   #function to read a list of positive integers from the user\n",
    "            try:\n",
    "                user_input = input(\"Enter a list of positive integers separated by spaces: \")  #take only positive values from the user\n",
    "                number_strings = user_input.split()  \n",
    "                                                         #It splits the user_input string into a list of number strings using split() func.\n",
    "                numbers = [int(num) for num in number_strings]\n",
    "            except ValueError:\n",
    "                print(\"Invalid input. Only integer numbers are accepted.\")\n",
    "                \n",
    "            \n",
    "                                                        #ensure all elements in the list are positive integers if not print error and return\n",
    "            if any(num <= 0 for num in numbers):\n",
    "                print(\"Invalid input. Only positive and nonzero integer numbers are accepted.\")\n",
    "                return  \n",
    "           \n",
    "            try:                                        #if user entered a positive integer number print it if not print error message and return\n",
    "                numbers = [int(num) for num in number_strings]\n",
    "                print(\"You entered:\", numbers)\n",
    "            except ValueError:\n",
    "                print(\"Invalid input. Please enter a list of valid numbers separated by spaces.\")\n",
    "                return"
   ]
  },
  {
   "cell_type": "code",
   "execution_count": 292,
   "id": "ec0b19fa-650d-4aba-9c61-1e607050794c",
   "metadata": {
    "tags": []
   },
   "outputs": [
    {
     "name": "stdin",
     "output_type": "stream",
     "text": [
      "Enter a list of positive integers separated by spaces:  20 30 44 9\n"
     ]
    },
    {
     "name": "stdout",
     "output_type": "stream",
     "text": [
      "You entered: [20, 30, 44, 9]\n"
     ]
    }
   ],
   "source": [
    "get_numbers()"
   ]
  },
  {
   "cell_type": "code",
   "execution_count": 286,
   "id": "6039677e-d6cf-4567-8a45-0e777f032e13",
   "metadata": {
    "tags": []
   },
   "outputs": [
    {
     "name": "stdin",
     "output_type": "stream",
     "text": [
      "Enter a list of positive integers separated by spaces:  26 79 -1\n"
     ]
    },
    {
     "name": "stdout",
     "output_type": "stream",
     "text": [
      "Invalid input. Only positive and nonzero integer numbers are accepted.\n",
      "You entered: [26, 79, -1]\n"
     ]
    }
   ],
   "source": [
    "get_numbers()"
   ]
  },
  {
   "cell_type": "code",
   "execution_count": 290,
   "id": "aafe56ba-22fa-49c2-aaf2-5d2ba63bfe76",
   "metadata": {
    "tags": []
   },
   "outputs": [
    {
     "name": "stdin",
     "output_type": "stream",
     "text": [
      "Enter a list of positive integers separated by spaces:  12 13 14 r\n"
     ]
    },
    {
     "name": "stdout",
     "output_type": "stream",
     "text": [
      "Invalid input. Only integer numbers are accepted.\n"
     ]
    },
    {
     "ename": "UnboundLocalError",
     "evalue": "cannot access local variable 'numbers' where it is not associated with a value",
     "output_type": "error",
     "traceback": [
      "\u001b[0;31m---------------------------------------------------------------------------\u001b[0m",
      "\u001b[0;31mUnboundLocalError\u001b[0m                         Traceback (most recent call last)",
      "Cell \u001b[0;32mIn[290], line 1\u001b[0m\n\u001b[0;32m----> 1\u001b[0m get_numbers()\n",
      "Cell \u001b[0;32mIn[289], line 12\u001b[0m, in \u001b[0;36mget_numbers\u001b[0;34m()\u001b[0m\n\u001b[1;32m      8\u001b[0m     \u001b[38;5;28mprint\u001b[39m(\u001b[38;5;124m\"\u001b[39m\u001b[38;5;124mInvalid input. Only integer numbers are accepted.\u001b[39m\u001b[38;5;124m\"\u001b[39m)\n\u001b[1;32m     11\u001b[0m                                             \u001b[38;5;66;03m#ensure all elements in the list are positive integers if not print error and return\u001b[39;00m\n\u001b[0;32m---> 12\u001b[0m \u001b[38;5;28;01mif\u001b[39;00m \u001b[38;5;28many\u001b[39m(num \u001b[38;5;241m<\u001b[39m\u001b[38;5;241m=\u001b[39m \u001b[38;5;241m0\u001b[39m \u001b[38;5;28;01mfor\u001b[39;00m num \u001b[38;5;129;01min\u001b[39;00m numbers):\n\u001b[1;32m     13\u001b[0m     \u001b[38;5;28mprint\u001b[39m(\u001b[38;5;124m\"\u001b[39m\u001b[38;5;124mInvalid input. Only positive and nonzero integer numbers are accepted.\u001b[39m\u001b[38;5;124m\"\u001b[39m)\n\u001b[1;32m     14\u001b[0m     \u001b[38;5;28;01mreturn\u001b[39;00m  \n",
      "\u001b[0;31mUnboundLocalError\u001b[0m: cannot access local variable 'numbers' where it is not associated with a value"
     ]
    }
   ],
   "source": [
    "get_numbers()"
   ]
  },
  {
   "cell_type": "code",
   "execution_count": null,
   "id": "9b027676-652a-4715-a6e4-0ed29c2904f7",
   "metadata": {},
   "outputs": [],
   "source": []
  }
 ],
 "metadata": {
  "kernelspec": {
   "display_name": "Python 3 (ipykernel)",
   "language": "python",
   "name": "python3"
  },
  "language_info": {
   "codemirror_mode": {
    "name": "ipython",
    "version": 3
   },
   "file_extension": ".py",
   "mimetype": "text/x-python",
   "name": "python",
   "nbconvert_exporter": "python",
   "pygments_lexer": "ipython3",
   "version": "3.11.4"
  }
 },
 "nbformat": 4,
 "nbformat_minor": 5
}
