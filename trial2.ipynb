{
 "cells": [
  {
   "cell_type": "code",
   "execution_count": 204,
   "id": "75be7972-9d75-4336-af52-c0b4cfc0f9dc",
   "metadata": {
    "tags": []
   },
   "outputs": [],
   "source": [
    "from typing import List, Dict, Union\n",
    "import csv #to import the csv module"
   ]
  },
  {
   "cell_type": "code",
   "execution_count": 232,
   "id": "0955bf5b-9365-4943-b143-28538c2cfcf1",
   "metadata": {
    "tags": []
   },
   "outputs": [],
   "source": [
    "#create a dictionary to represen a book.\n",
    "\n",
    "def add_book(title: str, authors: List[str], year: int) ->  Dict[str, Union[str, List[str], int]]:\n",
    "    book = {\n",
    "              'title': title,               #the title of the book(string).\n",
    "              'authors': authors,           #list of author names(list).\n",
    "              'year': year                  #year of publication(int).\n",
    "              } \n",
    "    return book                             #returns dictionary containing book information"
   ]
  },
  {
   "cell_type": "code",
   "execution_count": 54,
   "id": "f098a825-1d1e-4589-8a68-9eac0249f463",
   "metadata": {
    "tags": []
   },
   "outputs": [],
   "source": [
    "#adding books using add_book function\n",
    "\n",
    "book1 == add_book(\"War and Peace\",\"L.N. Tolstoy\", 1869),\n",
    "book2 == add_book(\"Childhood Boyhood Youth\",\"L.N. Tolstoy\",1857),\n",
    "book3 == add_book(\"Down Out in Paris and London\",\"George Orwell\",1933),\n",
    "book4 == add_book(\"My Autobiography\",\"Charles Chaplin\", 1964 ),\n",
    "book5 == add_book(\"A State of Change\",\"Penelope Gilliatt\",1967 ),\n",
    "book6 == add_book(\"Norman Podhoretz\",\"Making It\",1967),\n",
    "book7 == add_book(\"Hamlet\",\"William Shakespeare\",1602),\n",
    "book8 == add_book(\"Romeo and Juliet\",\"William Shakespeare\",1596)"
   ]
  },
  {
   "cell_type": "code",
   "execution_count": 206,
   "id": "a292fa4b-b151-40a4-8d57-0607d5c93229",
   "metadata": {
    "tags": []
   },
   "outputs": [
    {
     "data": {
      "text/plain": [
       "({'title': 'War and Peace', 'authors': 'L.N. Tolstoy', 'year': 1869},\n",
       " {'title': 'Childhood Boyhood Youth', 'authors': 'L.N. Tolstoy', 'year': 1857},\n",
       " {'title': 'Down Out in Paris and London',\n",
       "  'authors': 'George Orwell',\n",
       "  'year': 1933},\n",
       " {'title': 'Romeo and Juliet', 'authors': 'William Shakespeare', 'year': 1596})"
      ]
     },
     "execution_count": 206,
     "metadata": {},
     "output_type": "execute_result"
    }
   ],
   "source": [
    "book1,book2,book3,book8  #checks if the books has been added successfully"
   ]
  },
  {
   "cell_type": "code",
   "execution_count": 261,
   "id": "90a5f80d-b4da-44d9-bcbd-ea04a9097b7a",
   "metadata": {
    "tags": []
   },
   "outputs": [],
   "source": [
    "library = [book1,book2,book3,book4,book5,book6,book7,book8] #assigning library variable"
   ]
  },
  {
   "cell_type": "code",
   "execution_count": 262,
   "id": "3eb8fcb1-dc72-4e2f-9d56-09b2b63b1411",
   "metadata": {
    "tags": []
   },
   "outputs": [
    {
     "data": {
      "text/plain": [
       "[{'title': 'War and Peace', 'authors': 'L.N. Tolstoy', 'year': 1869},\n",
       " {'title': 'Childhood Boyhood Youth', 'authors': 'L.N. Tolstoy', 'year': 1857},\n",
       " {'title': 'Down Out in Paris and London',\n",
       "  'authors': 'George Orwell',\n",
       "  'year': 1933},\n",
       " {'title': 'My Autobiography', 'authors': 'Charles Chaplin', 'year': 1964},\n",
       " {'title': 'A State of Change', 'authors': 'Penelope Gilliatt', 'year': 1967},\n",
       " {'title': 'Norman Podhoretz', 'authors': 'Making It', 'year': 1967},\n",
       " {'title': 'Hamlet', 'authors': 'William Shakespeare', 'year': 1602},\n",
       " {'title': 'Romeo and Juliet', 'authors': 'William Shakespeare', 'year': 1596}]"
      ]
     },
     "execution_count": 262,
     "metadata": {},
     "output_type": "execute_result"
    }
   ],
   "source": [
    "library #library is a list of dictionaries representing books."
   ]
  },
  {
   "cell_type": "code",
   "execution_count": 263,
   "id": "ef6c2caa-f148-402a-9125-319c6c15af89",
   "metadata": {
    "tags": []
   },
   "outputs": [],
   "source": [
    "def  search_book(library: List[Dict[str, str]], title: str):   #title is the title of the book to search for.\n",
    "        for book in library:                                   #search for a book in the library by title.\n",
    "            if book['title'] == title:                         #search about the book using book title\n",
    "                print(f\"Book '{title}' is exits in the library.\") #if the book exits print the book is exits\n",
    "                break                                          #exit the loop if the book is found\n",
    "            else:\n",
    "                print(f\"Book '{title}' not exits in the library.\") #if the book is not exits print the book is not exits and return\n",
    "            return"
   ]
  },
  {
   "cell_type": "code",
   "execution_count": 266,
   "id": "f45e4b2a-65e2-4584-8878-54299dc50e6c",
   "metadata": {
    "tags": []
   },
   "outputs": [
    {
     "name": "stdout",
     "output_type": "stream",
     "text": [
      "Book 'War and Peace' is exits in the library.\n"
     ]
    }
   ],
   "source": [
    "search_book(library,\"War and Peace\")"
   ]
  },
  {
   "cell_type": "code",
   "execution_count": 264,
   "id": "767bc46e-7185-471f-ae4b-b3205b236b64",
   "metadata": {
    "tags": []
   },
   "outputs": [
    {
     "name": "stdout",
     "output_type": "stream",
     "text": [
      "Book 'Childhood Boyhood Youth' not exits in the library.\n"
     ]
    }
   ],
   "source": [
    "search_book(library,\"Childhood Boyhood Youth\")"
   ]
  },
  {
   "cell_type": "code",
   "execution_count": 265,
   "id": "6a245d75-34d2-4b74-88e6-82387676f60a",
   "metadata": {
    "tags": []
   },
   "outputs": [
    {
     "name": "stdout",
     "output_type": "stream",
     "text": [
      "Book 'Charles Chaplin' not exits in the library.\n"
     ]
    }
   ],
   "source": [
    "search_book(library,\"Charles Chaplin\")"
   ]
  },
  {
   "cell_type": "code",
   "execution_count": null,
   "id": "84e6ebb0-9eae-47b2-ad91-fe19523e14b4",
   "metadata": {},
   "outputs": [],
   "source": [
    "#creating books.csv file"
   ]
  },
  {
   "cell_type": "code",
   "execution_count": 258,
   "id": "dae39000-70ec-4146-bdf2-e0f4646d2466",
   "metadata": {
    "tags": []
   },
   "outputs": [],
   "source": [
    "csv_columns = ['title','authors','year']  #assigning the columns names "
   ]
  },
  {
   "cell_type": "code",
   "execution_count": 267,
   "id": "607bce53-8ea3-4064-bbeb-366a9576467c",
   "metadata": {
    "tags": []
   },
   "outputs": [],
   "source": [
    "csv_file = \"books.csv\"                   #assigning the file names "
   ]
  },
  {
   "cell_type": "code",
   "execution_count": 268,
   "id": "ef2d25f1-649b-4193-9aa2-d109331d9e0c",
   "metadata": {
    "tags": []
   },
   "outputs": [],
   "source": [
    "try:\n",
    "    with open(csv_file, 'w') as csvfile:\n",
    "        writer = csv.DictWriter(csvfile, fieldnames=csv_columns)            #create a CSV writer with the column names\n",
    "        writer.writeheader()                                                #Write the header row to the CSV file\n",
    "        for book in library:                                                #Write each book's data as a row in the CSV file\n",
    "            writer.writerow(book)\n",
    "except IOError:\n",
    "    print(\"I/O error\")"
   ]
  }
 ],
 "metadata": {
  "kernelspec": {
   "display_name": "Python 3 (ipykernel)",
   "language": "python",
   "name": "python3"
  },
  "language_info": {
   "codemirror_mode": {
    "name": "ipython",
    "version": 3
   },
   "file_extension": ".py",
   "mimetype": "text/x-python",
   "name": "python",
   "nbconvert_exporter": "python",
   "pygments_lexer": "ipython3",
   "version": "3.11.4"
  }
 },
 "nbformat": 4,
 "nbformat_minor": 5
}
